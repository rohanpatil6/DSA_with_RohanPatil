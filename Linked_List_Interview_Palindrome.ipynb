{
  "nbformat": 4,
  "nbformat_minor": 0,
  "metadata": {
    "colab": {
      "provenance": [],
      "authorship_tag": "ABX9TyO3Epbq/IbQfuRpNut7JMjH",
      "include_colab_link": true
    },
    "kernelspec": {
      "name": "python3",
      "display_name": "Python 3"
    },
    "language_info": {
      "name": "python"
    }
  },
  "cells": [
    {
      "cell_type": "markdown",
      "metadata": {
        "id": "view-in-github",
        "colab_type": "text"
      },
      "source": [
        "<a href=\"https://colab.research.google.com/github/rohanpatil6/DSA_with_RohanPatil/blob/main/Linked_List_Interview_Palindrome.ipynb\" target=\"_parent\"><img src=\"https://colab.research.google.com/assets/colab-badge.svg\" alt=\"Open In Colab\"/></a>"
      ]
    },
    {
      "cell_type": "code",
      "source": [
        "#To write a Palindrome code\n",
        "class Node:\n",
        "    def __init__(self, data):\n",
        "        self.data = data\n",
        "        self.next = None\n",
        "\n",
        "class LinkedList:\n",
        "    def __init__(self):\n",
        "        self.head = None\n",
        "\n",
        "    ## insert at the front/beginning of the linked list\n",
        "    def insertAtEnd(self, new_data):\n",
        "        ## creation of the new node\n",
        "        new_node = Node(new_data)\n",
        "\n",
        "        ## linked list is empty\n",
        "        if self.head is None:\n",
        "            self.head = new_node\n",
        "            return\n",
        "\n",
        "        ## insertion at the end\n",
        "        temp = self.head\n",
        "        while temp.next:\n",
        "            temp = temp.next\n",
        "\n",
        "        temp.next = new_node\n",
        "\n",
        "    ## write your code here\n",
        "    def checkPalindrome(self):\n",
        "      stack = []\n",
        "      temp = self.head\n",
        "      while temp:\n",
        "        stack.append(temp.data)\n",
        "        temp = temp.next\n",
        "\n",
        "      temp = self.head\n",
        "      for ind in range(len(stack)//2):\n",
        "        stack_ele = stack.pop()\n",
        "        if stack_ele == temp.data:\n",
        "          temp = temp.next\n",
        "          continue\n",
        "        else:\n",
        "          return False\n",
        "      #print(\"Palidrome\")\n",
        "      return True\n",
        "\n",
        "    def circularLLConversion(self):\n",
        "        temp = self.head\n",
        "        while temp.next:\n",
        "            temp = temp.next\n",
        "\n",
        "        temp.next = self.head\n",
        "\n",
        "    ## print the linked list\n",
        "    def printList(self):\n",
        "        temp = self.head\n",
        "        while temp:\n",
        "            print(str(temp.data)+\" \",end=\" \")\n",
        "            temp = temp.next\n",
        "\n",
        "## Driver code\n",
        "llist = LinkedList()\n",
        "## function calling\n",
        "llist.insertAtEnd(1)\n",
        "llist.insertAtEnd(0)\n",
        "llist.insertAtEnd(0)\n",
        "#llist.insertAtEnd(0)\n",
        "llist.insertAtEnd(1)\n",
        "llist.printList()\n",
        "\n",
        "#llist.circularLLConversion()\n",
        "#print(\"Circular Linked List\")\n",
        "print()\n",
        "if llist.checkPalindrome():\n",
        "    print(\"Given LL is Palindrome\")\n",
        "else:\n",
        "    print(\"Given LL is not Palindrome\")\n"
      ],
      "metadata": {
        "id": "W4uGDXaila5F",
        "colab": {
          "base_uri": "https://localhost:8080/"
        },
        "outputId": "09cfabf5-2c98-4927-db0b-9cdcdf139ea5"
      },
      "execution_count": null,
      "outputs": [
        {
          "output_type": "stream",
          "name": "stdout",
          "text": [
            "1  0  0  1  \n",
            "Given LL is Palindrome\n"
          ]
        }
      ]
    },
    {
      "cell_type": "code",
      "source": [],
      "metadata": {
        "id": "hjJb28QGiJK2"
      },
      "execution_count": null,
      "outputs": []
    },
    {
      "cell_type": "code",
      "source": [
        "class Node:\n",
        "    def __init__(self, data):\n",
        "        self.data = data\n",
        "        self.next = None\n",
        "\n",
        "class LinkedList:\n",
        "    def __init__(self):\n",
        "        self.head = None\n",
        "\n",
        "    ## insert at the end of the linked list\n",
        "    def insertAtEnd(self, new_data):\n",
        "        ## creation of the new node\n",
        "        new_node = Node(new_data)\n",
        "\n",
        "        ## linked list is empty\n",
        "        if self.head is None:\n",
        "            self.head = new_node\n",
        "            return\n",
        "\n",
        "        ## insertion at the end\n",
        "        temp = self.head\n",
        "        while temp.next:\n",
        "            temp = temp.next\n",
        "\n",
        "        temp.next = new_node\n",
        "\n",
        "    def sort012(self):\n",
        "        ##base case condition\n",
        "        if self.head is None or self.head.next is None:\n",
        "            return self.head\n",
        "\n",
        "        ##Create three counters to store the count value for 0, 1, and 2\n",
        "        count0 = 0\n",
        "        count1 = 0\n",
        "        count2 = 0\n",
        "\n",
        "        curr = self.head\n",
        "        while curr:\n",
        "            if curr.data == 0:\n",
        "                count0 += 1\n",
        "            elif curr.data == 1:\n",
        "                count1 += 1\n",
        "            else:\n",
        "                count2 += 1\n",
        "            curr = curr.next\n",
        "\n",
        "        temp = self.head\n",
        "        while temp:\n",
        "            if count0 > 0:\n",
        "                temp.data = 0\n",
        "                count0 -= 1\n",
        "            elif count1 > 0:\n",
        "                temp.data = 1\n",
        "                count1 -= 1\n",
        "            else:\n",
        "                temp.data = 2\n",
        "                count2 -= 1\n",
        "            temp = temp.next\n",
        "\n",
        "    ## print the linked list\n",
        "    def printList(self):\n",
        "        temp = self.head\n",
        "        while temp:\n",
        "            print(str(temp.data)+\" \",end=\" \")\n",
        "            temp = temp.next\n",
        "\n",
        "## Driver code\n",
        "llist = LinkedList()\n",
        "## function calling\n",
        "llist.insertAtEnd(1)\n",
        "llist.insertAtEnd(0)\n",
        "llist.insertAtEnd(1)\n",
        "llist.insertAtEnd(2)\n",
        "llist.insertAtEnd(0)\n",
        "\n",
        "print(\"Original Linked List:\")\n",
        "llist.printList()\n",
        "print()\n",
        "\n",
        "llist.sort012()\n",
        "print(\"Sorted Linked List:\")\n",
        "llist.printList()\n"
      ],
      "metadata": {
        "colab": {
          "base_uri": "https://localhost:8080/"
        },
        "id": "jbF-c3BADbV9",
        "outputId": "f6c83719-b42d-44eb-cb70-d876a585a0e5"
      },
      "execution_count": null,
      "outputs": [
        {
          "output_type": "stream",
          "name": "stdout",
          "text": [
            "Original Linked List:\n",
            "1  0  1  2  0  \n",
            "Sorted Linked List:\n",
            "0  0  1  1  2  "
          ]
        }
      ]
    },
    {
      "cell_type": "code",
      "source": [
        "'''1 = 300  4 = 500   7 = 700  9 = none\n",
        "100           300           500           700\n",
        "We can have deleted a last second node\n",
        "lets'''\n",
        "class Node:\n",
        "    def __init__(self, data):\n",
        "        self.data = data\n",
        "        self.next = None\n",
        "\n",
        "class LinkedList:\n",
        "    def __init__(self):\n",
        "        self.head = None\n",
        "\n",
        "    def append(self, data):\n",
        "        new_node = Node(data)\n",
        "        if not self.head:\n",
        "            self.head = new_node\n",
        "            return\n",
        "        current = self.head\n",
        "        while current.next:\n",
        "            current = current.next\n",
        "        current.next = new_node\n",
        "\n",
        "    def display(self):\n",
        "        current = self.head\n",
        "        while current:\n",
        "            print(current.data, end=\" -> \")\n",
        "            current = current.next\n",
        "        print(\"None\")\n",
        "\n",
        "# Creating a linked list\n",
        "my_linked_list = LinkedList()\n",
        "my_linked_list.append(1)\n",
        "my_linked_list.append(2)\n",
        "my_linked_list.append(3)\n",
        "\n",
        "# Displaying the linked list\n",
        "my_linked_list.display()\n"
      ],
      "metadata": {
        "colab": {
          "base_uri": "https://localhost:8080/"
        },
        "id": "lDprLBdUiS36",
        "outputId": "2a4c55a7-21d3-4678-a560-6bf7d55de3a9"
      },
      "execution_count": 2,
      "outputs": [
        {
          "output_type": "stream",
          "name": "stdout",
          "text": [
            "1 -> 2 -> 3 -> None\n"
          ]
        }
      ]
    },
    {
      "cell_type": "code",
      "source": [],
      "metadata": {
        "id": "ZGIw4rX_jzFE"
      },
      "execution_count": null,
      "outputs": []
    },
    {
      "cell_type": "markdown",
      "source": [],
      "metadata": {
        "id": "Jnr6w_pXibn0"
      }
    }
  ]
}