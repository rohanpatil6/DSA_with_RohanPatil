{
  "nbformat": 4,
  "nbformat_minor": 0,
  "metadata": {
    "colab": {
      "provenance": [],
      "authorship_tag": "ABX9TyPBsrD844ILOixAT+sY+bqG",
      "include_colab_link": true
    },
    "kernelspec": {
      "name": "python3",
      "display_name": "Python 3"
    },
    "language_info": {
      "name": "python"
    }
  },
  "cells": [
    {
      "cell_type": "markdown",
      "metadata": {
        "id": "view-in-github",
        "colab_type": "text"
      },
      "source": [
        "<a href=\"https://colab.research.google.com/github/rohanpatil6/DSA_with_RohanPatil/blob/main/tree_Traversal.ipynb\" target=\"_parent\"><img src=\"https://colab.research.google.com/assets/colab-badge.svg\" alt=\"Open In Colab\"/></a>"
      ]
    },
    {
      "cell_type": "markdown",
      "source": [],
      "metadata": {
        "id": "j-H1vjafwQeD"
      }
    },
    {
      "cell_type": "markdown",
      "source": [
        "Tree is non linear data structure they have acyclic form\n",
        "they hava\n",
        "1)Preorder\n",
        "2)Postorder\n",
        "3)Inorder\n",
        "\n",
        "*\n",
        "preorder\n",
        "they ,\n",
        "prorder(root):\n",
        "  print(root.data)\n",
        "  preorder(root.left)\n",
        "  preorder(root.right)\n",
        "\n",
        "the root node will br start\n",
        "\n",
        "\n",
        "*\n",
        "*inOrder\n",
        "if root:\n",
        "inorder(root.left)\n",
        "print(root.data)\n",
        "inorder(root.right)\n",
        "\n",
        "the root node will be middle\n",
        "\n",
        "*Postorder\n",
        "postorder(root):\n",
        "if root:\n",
        " postOrder(root.left)\n",
        " postOrder(root.right)\n",
        " print(root.data)\n",
        "\n",
        "\n",
        "\n",
        "the root node will be end\n",
        "\n",
        "\n",
        "Time complexity\n",
        "\n",
        "suppose,\n",
        "Preorder if root:\n",
        "            print(root.data)\n",
        "            preorder(root.left)\n",
        "            preorder(root.right)\n",
        "**Best case Scenerio**\n",
        "Balnced tree\n",
        "Equal distribution of element an left and Right\n",
        "subtree\n",
        "\n",
        "Recurrence Relations\n",
        "T(n) = 2T(n/2)+c\n",
        "      a=2\n",
        "      b=2\n",
        "      log and b = log 2*2=1\n",
        "      Best case = Θ(n)\n",
        "Space Complexity = Θ(log n)\n",
        "**Worst case scenario**\n",
        "UnBalaced tree\n",
        "T(n) = T(n-1)+c\n",
        "t(n) = Θ(n)\n",
        "\n",
        "Skwed tree:\n",
        "      left skwed and right skwed tree\n",
        "      \n",
        "Space Complexity = Θ(n)\n",
        "\n",
        "  \n"
      ],
      "metadata": {
        "id": "dFGxCJrqwSMK"
      }
    },
    {
      "cell_type": "code",
      "source": [
        "## PreOrder tree traversal\n",
        "##Create a node which contains data, left pointer and right pointer of a node\n",
        "class Node:\n",
        "  def __init__(self, data):\n",
        "    self.left = None\n",
        "    self.right = None\n",
        "    self.data = data\n",
        "\n",
        "## Implementation of Preorder traversal\n",
        "def preOrder(root):\n",
        "  if root:\n",
        "    print(str(root.data) + \" \", end = ' ')\n",
        "    ##using a recursive function call\n",
        "    preOrder(root.left)\n",
        "    preOrder(root.right)\n",
        "\n",
        "## Driver code\n",
        "root = Node(1)\n",
        "root.left = Node(2)\n",
        "root.right = Node(3)\n",
        "root.left.left = Node(4)\n",
        "root.left.right = Node(5)\n",
        "\n",
        "print('Preorder Traversal of the given tree is:')\n",
        "preOrder(root)\n",
        "print()"
      ],
      "metadata": {
        "id": "G7eaJqmZ30Cq",
        "colab": {
          "base_uri": "https://localhost:8080/"
        },
        "outputId": "ee206f7b-c116-42b7-cca0-883fe5af8eac"
      },
      "execution_count": 1,
      "outputs": [
        {
          "output_type": "stream",
          "name": "stdout",
          "text": [
            "Preorder Traversal of the given tree is:\n",
            "1  2  4  5  3  \n"
          ]
        }
      ]
    },
    {
      "cell_type": "code",
      "source": [
        "## InOrder tree traversal\n",
        "##Create a node which contains data, left pointer and right pointer of a node\n",
        "class Node:\n",
        "  def __init__(self, data):\n",
        "    self.left = None\n",
        "    self.right = None\n",
        "    self.data = data\n",
        "\n",
        "## Implementation of Inorder traversal\n",
        "def InOrder(root):\n",
        "  if root:\n",
        "    ##using a recursive function call\n",
        "    InOrder(root.left)\n",
        "    print(str(root.data) + \" \", end = ' ')\n",
        "    InOrder(root.right)\n",
        "\n",
        "## Driver code\n",
        "root = Node(1)\n",
        "root.left = Node(2)\n",
        "root.right = Node(3)\n",
        "root.left.left = Node(4)\n",
        "root.left.right = Node(5)\n",
        "\n",
        "print('Inorder Traversal of the given tree is:')\n",
        "InOrder(root)\n",
        "print()\n",
        "\n"
      ],
      "metadata": {
        "colab": {
          "base_uri": "https://localhost:8080/"
        },
        "id": "qSNAE3dwiNl1",
        "outputId": "d0cc472e-0a0a-4737-937f-8602a8ef595d"
      },
      "execution_count": 8,
      "outputs": [
        {
          "output_type": "stream",
          "name": "stdout",
          "text": [
            "Inorder Traversal of the given tree is:\n",
            "4  2  5  1  3  \n"
          ]
        }
      ]
    },
    {
      "cell_type": "code",
      "source": [
        "## PostOrder tree traversal\n",
        "##Create a node which contains data, left pointer and right pointer of a node\n",
        "class Node:\n",
        "  def __init__(self, data):\n",
        "    self.left = None\n",
        "    self.right = None\n",
        "    self.data = data\n",
        "\n",
        "## Implementation of Inorder traversal\n",
        "def Postorder(root):\n",
        "  if root:\n",
        "    ##using a recursive function call\n",
        "    Postorder(root.left)\n",
        "    Postorder(root.right)\n",
        "    print(str(root.data) + \" \", end = ' ')\n",
        "\n",
        "## Driver code\n",
        "root = Node(1)\n",
        "root.left = Node(2)\n",
        "root.right = Node(3)\n",
        "root.left.left = Node(4)\n",
        "root.left.right = Node(5)\n",
        "\n",
        "print('PostOrder Traversal of the given tree is:')\n",
        "Postorder(root)\n",
        "print()"
      ],
      "metadata": {
        "colab": {
          "base_uri": "https://localhost:8080/"
        },
        "id": "-E1_eB0drwqA",
        "outputId": "ee244efd-61d4-4eee-b8bb-35de39124814"
      },
      "execution_count": 11,
      "outputs": [
        {
          "output_type": "stream",
          "name": "stdout",
          "text": [
            "PostOrder Traversal of the given tree is:\n",
            "4  5  2  3  1  \n"
          ]
        }
      ]
    },
    {
      "cell_type": "code",
      "source": [
        "## PreOrder tree traversal\n",
        "## InOrder tree traversal\n",
        "## PostOrder tree traversal\n",
        "\n",
        "##Create a node which contains data, left pointer and right pointer of a node\n",
        "class Node:\n",
        "  def __init__(self, data):\n",
        "    self.left = None\n",
        "    self.right = None\n",
        "    self.data = data\n",
        "\n",
        "## Implementation of Preorder traversal\n",
        "def preOrder(root):\n",
        "  if root:\n",
        "    print(str(root.data) + \" \", end = ' ')\n",
        "    ##using a recursive function call\n",
        "    preOrder(root.left)\n",
        "    preOrder(root.right)\n",
        "\n",
        "def InOrder(root):\n",
        "  if root:\n",
        "    ##using a recursive function call\n",
        "    InOrder(root.left)\n",
        "    print(str(root.data) + \" \", end = ' ')\n",
        "    InOrder(root.right)\n",
        "\n",
        "def Postorder(root):\n",
        "  if root:\n",
        "    ##using a recursive function call\n",
        "    Postorder(root.left)\n",
        "    Postorder(root.right)\n",
        "    print(str(root.data) + \" \", end = ' ')\n",
        "\n",
        "## Driver code\n",
        "root = Node(1)\n",
        "root.left = Node(2)\n",
        "root.right = Node(3)\n",
        "root.left.left = Node(4)\n",
        "root.left.right = Node(5)\n",
        "\n",
        "print('Preorder Traversal of the given tree is:')\n",
        "preOrder(root)\n",
        "print()\n",
        "\n",
        "print('Inorder Traversal of the given tree is:')\n",
        "InOrder(root)\n",
        "print()\n",
        "\n",
        "print('PostOrder Traversal of the given tree is:')\n",
        "Postorder(root)\n",
        "print()"
      ],
      "metadata": {
        "colab": {
          "base_uri": "https://localhost:8080/"
        },
        "id": "sLWoy4rakrSj",
        "outputId": "98e11372-457a-4815-b3ea-32277e4b1242"
      },
      "execution_count": 9,
      "outputs": [
        {
          "output_type": "stream",
          "name": "stdout",
          "text": [
            "Preorder Traversal of the given tree is:\n",
            "1  2  4  5  3  \n",
            "Inorder Traversal of the given tree is:\n",
            "4  2  5  1  3  \n",
            "PostOrder Traversal of the given tree is:\n",
            "4  5  2  3  1  \n"
          ]
        }
      ]
    },
    {
      "cell_type": "markdown",
      "source": [],
      "metadata": {
        "id": "xYytlxj6oTqw"
      }
    },
    {
      "cell_type": "markdown",
      "source": [],
      "metadata": {
        "id": "3uQD4i0eokWB"
      }
    }
  ]
}