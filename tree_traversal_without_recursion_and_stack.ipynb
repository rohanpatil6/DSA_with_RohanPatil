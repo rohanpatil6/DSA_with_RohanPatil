{
  "nbformat": 4,
  "nbformat_minor": 0,
  "metadata": {
    "colab": {
      "provenance": [],
      "authorship_tag": "ABX9TyM1KXgrVCbLCIFgPSD/+Gti",
      "include_colab_link": true
    },
    "kernelspec": {
      "name": "python3",
      "display_name": "Python 3"
    },
    "language_info": {
      "name": "python"
    }
  },
  "cells": [
    {
      "cell_type": "markdown",
      "metadata": {
        "id": "view-in-github",
        "colab_type": "text"
      },
      "source": [
        "<a href=\"https://colab.research.google.com/github/rohanpatil6/DSA_with_RohanPatil/blob/main/tree_traversal_without_recursion_and_stack.ipynb\" target=\"_parent\"><img src=\"https://colab.research.google.com/assets/colab-badge.svg\" alt=\"Open In Colab\"/></a>"
      ]
    },
    {
      "cell_type": "markdown",
      "source": [
        "stack.append(root)\n",
        "while len(stack)>0:\n",
        "    popped = stack.pop()\n",
        "    print(popped.data)\n",
        "    if popped.right:\n",
        "        stack.append(popped.right)\n",
        "    if popped.left:\n",
        "        stack.append(append.left)"
      ],
      "metadata": {
        "id": "vfvq0JRPZSZT"
      }
    },
    {
      "cell_type": "markdown",
      "source": [],
      "metadata": {
        "id": "e6F11hj5Z-yx"
      }
    },
    {
      "cell_type": "code",
      "source": [
        "#Preorder traversal Not using recursive function\n",
        "class Node:\n",
        "    def __init__(self, data):\n",
        "        self.left = None\n",
        "        self.right = None\n",
        "        self.data = data\n",
        "\n",
        "def preOrder(root):\n",
        "    if root is None:\n",
        "        return\n",
        "    stack = []\n",
        "    stack.append(root)\n",
        "\n",
        "    while len(stack) > 0:\n",
        "        popped = stack.pop()\n",
        "        print(str(popped.data) + \" \", end='')\n",
        "\n",
        "        if popped.right:\n",
        "            stack.append(popped.right)\n",
        "\n",
        "        if popped.left:\n",
        "            stack.append(popped.left)\n",
        "\n",
        "# Driver code\n",
        "root = Node(10)\n",
        "root.left = Node(20)\n",
        "root.right = Node(30)\n",
        "root.left.left = Node(40)\n",
        "root.left.right = Node(50)\n",
        "root.right.left = Node(60)\n",
        "root.right.right = Node(70)\n",
        "\n",
        "print(\"Preorder Traversal of the given binary tree\")\n",
        "preOrder(root)\n"
      ],
      "metadata": {
        "colab": {
          "base_uri": "https://localhost:8080/"
        },
        "id": "Qf6VI7idZ9xy",
        "outputId": "f954429b-1f17-4b19-ec58-b1eb4ff97a8e"
      },
      "execution_count": null,
      "outputs": [
        {
          "output_type": "stream",
          "name": "stdout",
          "text": [
            "Preorder Traversal of the given binary tree\n",
            "10 20 40 50 30 60 70 "
          ]
        }
      ]
    },
    {
      "cell_type": "code",
      "source": [
        "#Postorder traversal Not using recursive function\n",
        "#Time Complexity: O(n)\n",
        "#Space Complixity: O(n)\n",
        "class Node:\n",
        "    def __init__(self, data):\n",
        "        self.left = None\n",
        "        self.right = None\n",
        "        self.data = data\n",
        "\n",
        "\n",
        "# Iterative approach to implement postorder traversal\n",
        "## Time Complexity: O(n)\n",
        "## Space Complexity: O(n)\n",
        "def postOrder(root):\n",
        "    if root is None:\n",
        "        return\n",
        "\n",
        "    stack = []\n",
        "    result = []\n",
        "\n",
        "    # First, we push the root onto the stack\n",
        "    stack.append(root)\n",
        "\n",
        "    while stack:\n",
        "        node = stack.pop()\n",
        "        result.append(node.data)\n",
        "\n",
        "        # Push the left child onto the stack if it exists\n",
        "        if node.left:\n",
        "            stack.append(node.left)\n",
        "\n",
        "        # Push the right child onto the stack if it exists\n",
        "        if node.right:\n",
        "            stack.append(node.right)\n",
        "\n",
        "    # Reverse the result list to get the postorder traversal\n",
        "    result.reverse()\n",
        "\n",
        "    for data in result:\n",
        "        print(data, end=\" \")\n",
        "\n",
        "# Driver code\n",
        "root = Node(10)\n",
        "root.left = Node(20)\n",
        "root.right = Node(30)\n",
        "root.left.left = Node(40)\n",
        "root.left.right = Node(50)\n",
        "root.right.left = Node(60)\n",
        "root.right.right = Node(70)\n",
        "\n",
        "print(\"Postorder Traversal of the given binary tree\")\n",
        "postOrder(root)\n"
      ],
      "metadata": {
        "id": "XYEVGpePfUaw",
        "colab": {
          "base_uri": "https://localhost:8080/"
        },
        "outputId": "49c440f3-5d47-4d06-f8cf-7a1ce9576a23"
      },
      "execution_count": 6,
      "outputs": [
        {
          "output_type": "stream",
          "name": "stdout",
          "text": [
            "Postorder Traversal of the given binary tree\n",
            "40 50 20 60 70 30 10 "
          ]
        }
      ]
    },
    {
      "cell_type": "code",
      "source": [
        "class Node:\n",
        "    def __init__(self, data):\n",
        "        self.left = None\n",
        "        self.right = None\n",
        "        self.data = data\n",
        "\n",
        "def inOrder(root):\n",
        "    if root is None:\n",
        "        return\n",
        "    stack = []\n",
        "    current = root\n",
        "\n",
        "    while stack or current:\n",
        "        if current:\n",
        "            stack.append(current)\n",
        "            current = current.left\n",
        "        else:\n",
        "            current = stack.pop()\n",
        "            print(str(current.data) + \" \", end='')\n",
        "            current = current.right\n",
        "\n",
        "# Driver code\n",
        "root = Node(10)\n",
        "root.left = Node(20)\n",
        "root.right = Node(30)\n",
        "root.left.left = Node(40)\n",
        "root.left.right = Node(50)\n",
        "root.right.left = Node(60)\n",
        "root.right.right = Node(70)\n",
        "\n",
        "print(\"Inorder Traversal of the given binary tree\")\n",
        "inOrder(root)\n"
      ],
      "metadata": {
        "colab": {
          "base_uri": "https://localhost:8080/"
        },
        "id": "wP9XlA-2j4Ia",
        "outputId": "42bfafe0-f696-4074-b676-1081644a3c47"
      },
      "execution_count": 8,
      "outputs": [
        {
          "output_type": "stream",
          "name": "stdout",
          "text": [
            "Inorder Traversal of the given binary tree\n",
            "40 20 50 10 60 30 70 "
          ]
        }
      ]
    }
  ]
}