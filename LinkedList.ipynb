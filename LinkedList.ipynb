{
  "nbformat": 4,
  "nbformat_minor": 0,
  "metadata": {
    "colab": {
      "provenance": [],
      "authorship_tag": "ABX9TyNh4twnavJg8zUW2GEjWxm7",
      "include_colab_link": true
    },
    "kernelspec": {
      "name": "python3",
      "display_name": "Python 3"
    },
    "language_info": {
      "name": "python"
    }
  },
  "cells": [
    {
      "cell_type": "markdown",
      "metadata": {
        "id": "view-in-github",
        "colab_type": "text"
      },
      "source": [
        "<a href=\"https://colab.research.google.com/github/rohanpatil6/DSA_with_RohanPatil/blob/main/LinkedList.ipynb\" target=\"_parent\"><img src=\"https://colab.research.google.com/assets/colab-badge.svg\" alt=\"Open In Colab\"/></a>"
      ]
    },
    {
      "cell_type": "markdown",
      "source": [
        "Linked List  = node\n",
        "Data Structure\n",
        "1)Linear Based data Structure = No Continious Memory Allocation\n",
        "2)Dynamic Data Structure = Contiguous Memory allocation\n",
        "\n",
        "in ARRAY Random Acess is allowed the time complixity is O(1)\n",
        "\n",
        "In Lineked in node will be compose the data (pointer stored the address of other element which having pointing to and head pointer to be in the linklist)\n",
        ":\\:\n",
        "\n",
        "1) Single linked list = last node points will always be none first node that can be head pointer to be in the linklist\n",
        "\n",
        "\n",
        "suppose sorted in nature\n",
        "10=3000 →  20=5000 →  30=7000 → 40=none\n",
        "\n",
        "\n",
        "the 1000 the head pointer\n",
        "if x = 30 they return answer a as 1 elese return -1\n",
        "\n",
        "\n",
        "can we apply binary search  \n",
        "hint work mid = i+(j-i)//2\n",
        "random access →  Not Possible\n",
        "when we do searching opeartion → O(n)\n",
        "The linked list are triverse operation will perfrom the arry Completely\n",
        "\n",
        "\n",
        "inseration,deletion very essay to linked list\n",
        "\n",
        "\n",
        "\n",
        "\n"
      ],
      "metadata": {
        "id": "w8CHHtRw7rQt"
      }
    },
    {
      "cell_type": "markdown",
      "source": [
        "Data type in linked list is\n",
        "1) Single linkedlist  → the only single node\n",
        "2) Double Linkedlist  → the have a forward and backward node they should be two pointer\n",
        "3) Circular LinkedList →  Pointer(next and Previous) responsible to store addr of next node  the from a cicular from will be connected with node"
      ],
      "metadata": {
        "id": "Y_JKHcGeIR3r"
      }
    },
    {
      "cell_type": "markdown",
      "source": [
        "**Linked LIST**(singly Linked List)"
      ],
      "metadata": {
        "id": "Q7E72YcONGRb"
      }
    },
    {
      "cell_type": "code",
      "source": [
        "'''25=100 → 10=2000 → 20=4000 → 30=7000 → 40=none\n",
        "  5000      1000      2000      4000        7000\n",
        "  ##PRINT THIS DATA INSIDE A NODE  FIRST TAKE TEMP\n",
        "  ##temp=5000\n",
        "  ##temp = self.head\n",
        "  while temp:\n",
        "    print(temp.data)\n",
        "    temp = temp.next '''\n",
        "# Node class should be named 'Node' (capital 'N') for consistency.\n",
        "class Node:\n",
        "    def __init__(self, data):\n",
        "        self.data = data\n",
        "        self.nextPtr = None\n",
        "\n",
        "# LinkedList class definition\n",
        "class LinkedList:\n",
        "    def __init__(self):\n",
        "        self.head = None\n",
        "\n",
        "    # Insert a new node at the beginning of the linked list\n",
        "    def insertAtBeginning(self, new_data):\n",
        "        # Create a new node for the new_data\n",
        "        new_node = Node(new_data)\n",
        "        # Insertion at the beginning of the linked list\n",
        "        new_node.nextPtr = self.head\n",
        "        self.head = new_node\n",
        "\n",
        "    # Print the linked list\n",
        "    def printLinkedList(self):\n",
        "        temp = self.head\n",
        "        while temp:\n",
        "            print(str(temp.data) + \" \", end=\" \")\n",
        "            temp = temp.nextPtr\n",
        "\n",
        "# Driver code\n",
        "llist = LinkedList()\n",
        "\n",
        "llist.insertAtBeginning(10)\n",
        "llist.insertAtBeginning(20)\n",
        "llist.insertAtBeginning(30)\n",
        "llist.insertAtBeginning(40)\n",
        "llist.insertAtBeginning(50)\n",
        "\n",
        "# Print the linked list\n",
        "llist.printLinkedList()\n"
      ],
      "metadata": {
        "colab": {
          "base_uri": "https://localhost:8080/"
        },
        "id": "IRNpm3kqO117",
        "outputId": "7a0efcdc-d089-4ae5-94b5-f1213e5b3d65"
      },
      "execution_count": null,
      "outputs": [
        {
          "output_type": "stream",
          "name": "stdout",
          "text": [
            "50  40  30  20  10  "
          ]
        }
      ]
    },
    {
      "cell_type": "code",
      "source": [
        "## Inseration at end\n",
        "'''10 → 2000 || 20 → 4000 ||30 → 7000 || 40 → none\n",
        "  1000          2000        4000      7000\n",
        "\n",
        "  new Node 50 → None\n",
        "            8000\n",
        "\n",
        "  hint\n",
        "   temp = self.head\n",
        "   while temp.next is not None\n",
        "   temp = temp.next\n",
        "   temp.next = new_node\n",
        "\n",
        "   LL Empty\n",
        "   if self.head is none:\n",
        "    self.h = newnode\n",
        "    return '''\n",
        "# Node class should be named 'Node' (capital 'N') for consistency.\n",
        "class Node:\n",
        "    def __init__(self, data):\n",
        "        self.data = data\n",
        "        self.nextPtr = None\n",
        "\n",
        "# LinkedList class definition\n",
        "class LinkedList:\n",
        "    def __init__(self):\n",
        "        self.head = None\n",
        "\n",
        "## insert the new node end of the end of th linked list\n",
        "    def insertAtEnd(self, new_data):\n",
        "\n",
        "    ##Create a new node for the new data\n",
        "        new_node = Node(new_data)\n",
        "    ##check wheteher linked lisr is empty or differnt\n",
        "\n",
        "        if self.head is None:\n",
        "              self.head = new_node\n",
        "              return\n",
        "    ## insert the data at  the end\n",
        "        temp  = self.head\n",
        "        while temp.nextPtr:\n",
        "            temp = temp.nextPtr\n",
        "\n",
        "        temp.nextPtr =  new_node\n",
        "    ##Print the  linked list\n",
        "    def printLinkedList(self):\n",
        "        temp = self.head\n",
        "        while temp:\n",
        "            print(str(temp.data) + \" \", end=\" \")\n",
        "            temp = temp.nextPtr\n",
        "\n",
        "# Driver code\n",
        "llist = LinkedList()\n",
        "\n",
        "llist.insertAtEnd(10)\n",
        "llist.insertAtEnd(20)\n",
        "llist.insertAtEnd(30)\n",
        "llist.insertAtEnd(40)\n",
        "llist.insertAtEnd(50)\n",
        "\n",
        "# Print the linked list\n",
        "llist.printLinkedList()\n",
        "\n"
      ],
      "metadata": {
        "id": "tAAfRUEjm8hn",
        "colab": {
          "base_uri": "https://localhost:8080/"
        },
        "outputId": "c4e8e3e5-93be-488e-bafc-d0c181045df7"
      },
      "execution_count": null,
      "outputs": [
        {
          "output_type": "stream",
          "name": "stdout",
          "text": [
            "10  20  30  40  "
          ]
        }
      ]
    },
    {
      "cell_type": "code",
      "source": [
        "## Inseration\n",
        "'''10 → 2000 || 20 → 4000 ||30 → 7000 || 40 → none\n",
        "  1000          2000        4000      7000\n",
        "  the value should be insert at after a 20 the value should be 25 → null\n",
        "\n",
        "  insertAfternode(list.head.next,25)\n",
        "  1)newnode.next = prev_node.next\n",
        "  2)prevnode.next = newnode'''\n",
        "# Node class should be named 'Node' (capital 'N') for consistency.\n",
        "class Node:\n",
        "    def __init__(self, data):\n",
        "        self.data = data\n",
        "        self.nextPtr = None\n",
        "\n",
        "# LinkedList class definition\n",
        "class LinkedList:\n",
        "    def __init__(self):\n",
        "        self.head = None\n",
        "\n",
        "## insert the new node end of the end of th linked list\n",
        "    def insertAtEnd(self, new_data):\n",
        "\n",
        "    ##Create a new node for the new data\n",
        "        new_node = Node(new_data)\n",
        "    ##check wheteher linked lisr is empty or differnt\n",
        "\n",
        "        if self.head is None:\n",
        "              self.head = new_node\n",
        "              return\n",
        "    ## insert the data at  the end\n",
        "        temp  = self.head\n",
        "        while temp.nextPtr:\n",
        "            temp = temp.nextPtr\n",
        "\n",
        "        temp.nextPtr =  new_node\n",
        "    ## insert the new node after any of the previous node\n",
        "    def insertAfterNode(self, prev_node, new_data):\n",
        "        if prev_node is None:\n",
        "            print(\"Given node must be available in your linked list\")\n",
        "            return\n",
        "    ##Create a new linked list\n",
        "        new_node = Node(new_data)\n",
        "        new_node.nextPtr = prev_node.nextPtr\n",
        "        prev_node.nextPtr = new_node\n",
        "    ##Print the  linked list\n",
        "    def printLinkedList(self):\n",
        "        temp = self.head\n",
        "        while temp:\n",
        "            print(str(temp.data) + \" \", end=\" \")\n",
        "            temp = temp.nextPtr\n",
        "\n",
        "# Driver code\n",
        "llist = LinkedList()\n",
        "\n",
        "llist.insertAtEnd(10)\n",
        "llist.insertAtEnd(20)\n",
        "llist.insertAtEnd(30)\n",
        "llist.insertAtEnd(40)\n",
        "llist.insertAtEnd(50)\n",
        "print(\"Inseration of nodes at the end of the Linked List:\")\n",
        "llist.printLinkedList()\n",
        "print()\n",
        "llist.insertAfterNode(llist.head.nextPtr, 25)\n",
        "print(\"Insertion of nodes after second node of the linked list:\")\n",
        "# Print the linked list\n",
        "llist.printLinkedList()\n",
        "\n"
      ],
      "metadata": {
        "colab": {
          "base_uri": "https://localhost:8080/"
        },
        "id": "1fkpM7w1IQ0p",
        "outputId": "e2fa6b56-bb2f-4d9e-fbd7-581fdccec0e0"
      },
      "execution_count": 1,
      "outputs": [
        {
          "output_type": "stream",
          "name": "stdout",
          "text": [
            "Inseration of nodes at the end of the Linked List:\n",
            "10  20  30  40  50  \n",
            "Insertion of nodes after second node of the linked list:\n",
            "10  20  25  30  40  50  "
          ]
        }
      ]
    },
    {
      "cell_type": "markdown",
      "source": [
        "Inseration  \n"
      ],
      "metadata": {
        "id": "KSVci7I-4m9-"
      }
    },
    {
      "cell_type": "code",
      "source": [
        "# Inseration\n",
        "'''5=4000 → 10=7000 → 15=none\n",
        "    1000      4000      7000\n",
        "    to take not  2=1000 → new node insert into first node we have\n",
        "    ** Hint **\n",
        "    newnode.next = self.new '''\n",
        "\n",
        "class Node:\n",
        "    def __init__(self, data):\n",
        "        self.data = data\n",
        "        self.next = None\n",
        "\n",
        "class LinkedList:\n",
        "    def __init__(self):\n",
        "        self.head = None\n",
        "\n",
        "    def insert_at_beginning(self, data):\n",
        "        new_node = Node(data)\n",
        "        new_node.next = self.head\n",
        "        self.head = new_node\n",
        "\n",
        "    def display(self):\n",
        "        current = self.head\n",
        "        while current:\n",
        "            print(f\"{current.data} -> \", end=\"\")\n",
        "            current = current.next\n",
        "        print(\"None\")\n",
        "\n",
        "# Create a linked list\n",
        "linked_list = LinkedList()\n",
        "\n",
        "# Insert nodes into the linked list\n",
        "linked_list.insert_at_beginning(15)\n",
        "linked_list.insert_at_beginning(10)\n",
        "linked_list.insert_at_beginning(5)\n",
        "\n",
        "# Display the linked list before insertion\n",
        "print(\"Linked List before insertion:\")\n",
        "linked_list.display()\n",
        "\n",
        "# Insert a new node with value 2 at the beginning\n",
        "linked_list.insert_at_beginning(2)\n",
        "\n",
        "# Display the linked list after insertion\n",
        "print(\"\\nLinked List after insertion:\")\n",
        "linked_list.display()\n"
      ],
      "metadata": {
        "colab": {
          "base_uri": "https://localhost:8080/"
        },
        "id": "kR8y3trc4y5G",
        "outputId": "a904884e-f937-40a1-dc0a-e81717519aef"
      },
      "execution_count": 2,
      "outputs": [
        {
          "output_type": "stream",
          "name": "stdout",
          "text": [
            "Linked List before insertion:\n",
            "5 -> 10 -> 15 -> None\n",
            "\n",
            "Linked List after insertion:\n",
            "2 -> 5 -> 10 -> 15 -> None\n"
          ]
        }
      ]
    }
  ]
}