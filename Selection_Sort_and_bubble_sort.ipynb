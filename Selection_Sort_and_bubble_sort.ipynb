{
  "nbformat": 4,
  "nbformat_minor": 0,
  "metadata": {
    "colab": {
      "provenance": [],
      "authorship_tag": "ABX9TyOlMNxFafAb5ULGKqmi24UL",
      "include_colab_link": true
    },
    "kernelspec": {
      "name": "python3",
      "display_name": "Python 3"
    },
    "language_info": {
      "name": "python"
    }
  },
  "cells": [
    {
      "cell_type": "markdown",
      "metadata": {
        "id": "view-in-github",
        "colab_type": "text"
      },
      "source": [
        "<a href=\"https://colab.research.google.com/github/rohanpatil6/DSA_with_RohanPatil/blob/main/Selection_Sort_and_bubble_sort.ipynb\" target=\"_parent\"><img src=\"https://colab.research.google.com/assets/colab-badge.svg\" alt=\"Open In Colab\"/></a>"
      ]
    },
    {
      "cell_type": "markdown",
      "source": [
        "Sorting\n",
        "1)Comparsion Based Sorting:Compare The element inside the array\n",
        "    **Bubble sort**\n",
        "    **Selection sort**\n",
        "    **Inseration sort**\n",
        "    **QuickSort**\n",
        "    **Merage Sort**\n",
        "    **HeapSort**\n",
        "    **Shellsort**\n",
        "2)Non Comparsion based sorting:No Comparsion within the elements\n",
        "    **Count sort**\n",
        "    **Radix sort**\n",
        "    **Bucket sort**\n",
        "\n",
        "\n",
        "***Stable and Unstable sort***\n",
        "input=20,10,5,15,10,25,45\n",
        "output=5,10,10,15.25,45\n",
        "(After a apply a sorting algorithm\n",
        "5,10a,10b,15.25,45 it called stable sort)\n",
        "(After a apply a sorting algorithm\n",
        "5,10b,10a,15.25,45 it called unstable sort)\n",
        "\n",
        "Inplace and Outplace Sorting\n",
        "arr=[__________]\n",
        "Extra space\n",
        "new array = Outplace Sorting Mergesort\n",
        "\n",
        "\n"
      ],
      "metadata": {
        "id": "E2ODdcwrNJUe"
      }
    },
    {
      "cell_type": "markdown",
      "source": [
        "***Bubble Sort***\n",
        "70,20,50,30, 90, 5, 15\n",
        "0   1  2  3  4   5   6\n",
        "pass1 : 20,50,30.70,5,15,90\n",
        "pass2 : 20,30,50,5,15,70,90\n",
        "pass3 : 20,30,5,15,50,70,90\n",
        "pass4 : 20,5,15,30,50,70,90\n",
        "pass5 : 5,15,20,30,50,70,90\n",
        "\n",
        "Sorted array\n",
        "\n",
        "worst case = (n-1) passes\n",
        "\n",
        "#Comparsions\n",
        "pass1 = (n-1)\n",
        "pass2 = (n-2)\n",
        "...\n",
        "Pass5 = (1)\n",
        "\n",
        "**Time Complexity**\n",
        "sum of n naturnal number n(n+1)/2= O(n^2)\n",
        "\n",
        "**Swaps**\n",
        "Best Case = 0\n",
        "Worst case O(n^2)\n",
        "10,20,30,40 = Best Case For swaps = 0\n",
        "40,30,20,10 = Worst case for swapas = n^2\n",
        "\n",
        "**TimeComplexity**\n",
        "Depends upon a number of Comparsions swaps its n^2 + n^2 overall O(n^2)\n",
        "\n",
        "\n"
      ],
      "metadata": {
        "id": "Zc9csI4ZR1cg"
      }
    },
    {
      "cell_type": "code",
      "source": [
        "##Time Complexity: O(n^2) of Bubble Sort\n",
        "##Method implmentation\n",
        "def bubbleSort(arr):\n",
        "   n = len(arr)\n",
        "   for i in range(n):\n",
        "    for j in range(0, n-i-1):\n",
        "      if arr[j] > arr[j+1]:\n",
        "        ##Swap of the elements\n",
        "        arr[j], arr[j+1] = arr[j+1], arr[j]\n",
        "    return arr\n",
        "##Driver code\n",
        "arr = [70,20,50,60,35,47]\n",
        "result = bubbleSort(arr)\n",
        "print(\"Array after using bubble sort is:\",result)"
      ],
      "metadata": {
        "colab": {
          "base_uri": "https://localhost:8080/"
        },
        "id": "nEk2KLAKXAxW",
        "outputId": "21ba40bc-02b1-4924-d3da-d971c3a81964"
      },
      "execution_count": 5,
      "outputs": [
        {
          "output_type": "stream",
          "name": "stdout",
          "text": [
            "Array after using bubble sort is: [20, 50, 60, 35, 47, 70]\n"
          ]
        }
      ]
    },
    {
      "cell_type": "markdown",
      "source": [
        "***Selection Sort***\n",
        "70, 20, 50, 30, 90, 5, 15\n",
        "0    1   2   3   4   5  6\n",
        "i=0\n",
        "Min = 0\n",
        "1)The Value of traversal it's called Min\n",
        "2)To Store the minimum Element\n",
        "pass1 : 5,20,50,30,90,70,15\n",
        "pass2 : 5,15,50,30,90,70,20\n",
        "pass3 : 5,15,20,30,90,70,50\n",
        "pass4 : 5,15,20,30,50,70,90\n",
        "pass5 : 5,15,20,30,50,70,90\n",
        "i = 5 min = 5\n",
        "pass6 : 5,15,20,30,50,70,90\n",
        "Its a sorted array\n",
        "\n",
        "\n",
        "#Comparisons\n",
        "(n-1)+(n-2)+(n-3)+_ _ _ _+1\n",
        "TimeComplexity(n-1)n/2 it's O(n^2)\n",
        "#Swaps\n",
        "(n-1)\n",
        "1+1+1+1+ _ _ +(n-1)\n",
        "O(n)\n",
        "\n",
        "Time Complixity\n",
        "\n",
        "total number of swapes\n"
      ],
      "metadata": {
        "id": "pqBVqnzycgBE"
      }
    },
    {
      "cell_type": "code",
      "source": [
        "#Selection sort\n",
        "#Method Def\n",
        "def selectionSort(arr):\n",
        "  n = len(arr)\n",
        "  for i in range(n):\n",
        "    min_idx = 1\n",
        "    for j in range(i+1, n):\n",
        "      if arr[j] < arr[min_idx]:\n",
        "        min_idx = j\n",
        "    #swap happened after every pass\n",
        "    arr[i], arr[min_idx] = arr[min_idx], arr[i]\n",
        "  return arr\n",
        "\n",
        "#Driver Code\n",
        "arr = [70,56,23,19,25,37,48]\n",
        "result = selectionSort(arr)\n",
        "print(\"Sorted Array After applying Selection sort\",result)"
      ],
      "metadata": {
        "colab": {
          "base_uri": "https://localhost:8080/"
        },
        "id": "MFbPtIzloOc7",
        "outputId": "1f735a51-f4d7-48f2-9a8d-ea7894946ab0"
      },
      "execution_count": 6,
      "outputs": [
        {
          "output_type": "stream",
          "name": "stdout",
          "text": [
            "Sorted Array After applying Selection sort [19, 70, 23, 25, 37, 48, 56]\n"
          ]
        }
      ]
    }
  ]
}