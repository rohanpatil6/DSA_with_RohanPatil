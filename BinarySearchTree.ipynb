{
  "nbformat": 4,
  "nbformat_minor": 0,
  "metadata": {
    "colab": {
      "provenance": [],
      "authorship_tag": "ABX9TyM4XD/RKr+zND4Zy9t1bGPB",
      "include_colab_link": true
    },
    "kernelspec": {
      "name": "python3",
      "display_name": "Python 3"
    },
    "language_info": {
      "name": "python"
    }
  },
  "cells": [
    {
      "cell_type": "markdown",
      "metadata": {
        "id": "view-in-github",
        "colab_type": "text"
      },
      "source": [
        "<a href=\"https://colab.research.google.com/github/rohanpatil6/DSA_with_RohanPatil/blob/main/BinarySearchTree.ipynb\" target=\"_parent\"><img src=\"https://colab.research.google.com/assets/colab-badge.svg\" alt=\"Open In Colab\"/></a>"
      ]
    },
    {
      "cell_type": "markdown",
      "source": [
        "**Binary Search Tree**\n",
        "*Properties*\n",
        "1)Left Subtree< parent Node\n",
        "2)Right Subtree> parent Node\n",
        "Operation\n",
        "Inseration,deletion,Searching\n",
        "3)No duplicate element in BST\n",
        "4)InOrder Traversal of BST as Sorted Array\n",
        "*Inseration*\n",
        "(new Key)=inseration=Always at the leaf node\n",
        "InOrder = 40,50,60,70,80\n",
        "\n",
        "\n",
        "**Time Complexity**\n",
        "Inseration:\n",
        "    Best case average = θ(log n)\n",
        "    worst case = θ(n)\n",
        "searching: θ(h)\n",
        "\n",
        "Best and Average\n",
        "t(n) = 2T(n/2)+c\n",
        "t(n) = θ(log n)\n",
        "\n",
        "Worst case\n",
        "T(n) = T(n-1)+c\n",
        "     = θ(n)\n",
        "\n"
      ],
      "metadata": {
        "id": "5kmtRWONqFOp"
      }
    },
    {
      "cell_type": "code",
      "source": [
        "##Create a class of Node in a Binary Search Tree\n",
        "class Node:\n",
        "  def __init__(self, data):\n",
        "    self.data = data\n",
        "    self.left = None\n",
        "    self.right = None\n",
        "##Inseration of a node in a Binary Search Tree\n",
        "def insertBST(root, key):\n",
        "    ##tree is empty\n",
        "    if root is None:\n",
        "      return Node(key)\n",
        "    else:\n",
        "        if root.data == key:\n",
        "            return root\n",
        "        elif root.data < key:\n",
        "            root.right = insertBST(root.right, key)\n",
        "        else:\n",
        "            root.left = insertBST(root.left, key)\n",
        "        return root\n",
        "\n",
        "##Inorder traversal of the tree\n",
        "def inOrder(root):\n",
        "    if root:\n",
        "      inOrder(root.left)\n",
        "      print(str(root.data) + \" \", end = ' ')\n",
        "      inOrder(root.right)\n",
        "\n",
        "#Driver Code\n",
        "root = Node(50)\n",
        "root = insertBST(root, 40)\n",
        "root = insertBST(root, 70)\n",
        "root = insertBST(root, 60)\n",
        "root = insertBST(root, 80)\n",
        "\n",
        "##if after doing inorder traversal, sorted array\n",
        "## It is a Binary serch tree\n",
        "print(\"Inorder Traversal  of the tree:\")\n",
        "inOrder(root)\n",
        "print()"
      ],
      "metadata": {
        "colab": {
          "base_uri": "https://localhost:8080/"
        },
        "id": "FnFDKL9WmsE5",
        "outputId": "928ae027-308d-4351-e5ff-0ff9fea5fded"
      },
      "execution_count": null,
      "outputs": [
        {
          "output_type": "stream",
          "name": "stdout",
          "text": [
            "Inorder Traversal  of the tree:\n",
            "40  50  60  70  80  \n"
          ]
        }
      ]
    },
    {
      "cell_type": "markdown",
      "source": [
        "##Duplication value will be have they goes to out of loop in BST\n"
      ],
      "metadata": {
        "id": "5FdoeCwSy-nB"
      }
    },
    {
      "cell_type": "code",
      "source": [
        "##Duplication value will be have they goes to out of loop in BST\n",
        "##Create a class of Node in a Binary Search Tree\n",
        "class Node:\n",
        "  def __init__(self, data):\n",
        "    self.data = data\n",
        "    self.left = None\n",
        "    self.right = None\n",
        "##Inseration of a node in a Binary Search Tree\n",
        "def insertBST(root, key):\n",
        "    ##tree is empty\n",
        "    if root is None:\n",
        "      return Node(key)\n",
        "    else:\n",
        "        if root.data == key:\n",
        "            return root\n",
        "        elif root.data < key:\n",
        "            root.right = insertBST(root.right, key)\n",
        "        else:\n",
        "            root.left = insertBST(root.left, key)\n",
        "        return root\n",
        "\n",
        "##Inorder traversal of the tree\n",
        "def inOrder(root):\n",
        "    if root:\n",
        "      inOrder(root.left)\n",
        "      print(str(root.data) + \" \", end = ' ')\n",
        "      inOrder(root.right)\n",
        "\n",
        "#Driver Code\n",
        "root = Node(50)\n",
        "root = insertBST(root, 40)\n",
        "root = insertBST(root, 40)\n",
        "root = insertBST(root, 40)\n",
        "root = insertBST(root, 80)\n",
        "\n",
        "##if after doing inorder traversal, sorted array\n",
        "## It is a Binary serch tree\n",
        "print(\"Inorder Traversal  of the tree:\")\n",
        "inOrder(root)\n",
        "print()"
      ],
      "metadata": {
        "colab": {
          "base_uri": "https://localhost:8080/"
        },
        "id": "MhEpe7guwQt-",
        "outputId": "5891cb5c-c962-4fff-9042-9a4db01abdc7"
      },
      "execution_count": null,
      "outputs": [
        {
          "output_type": "stream",
          "name": "stdout",
          "text": [
            "Inorder Traversal  of the tree:\n",
            "40  50  80  \n"
          ]
        }
      ]
    },
    {
      "cell_type": "markdown",
      "source": [
        "Searching of an element in Binary Search tree"
      ],
      "metadata": {
        "id": "nI_wTWkyzB_v"
      }
    },
    {
      "cell_type": "code",
      "source": [
        "##Create a class of Node in a Binary Search Tree\n",
        "class Node:\n",
        "  def __init__(self, data):\n",
        "    self.data = data\n",
        "    self.left = None\n",
        "    self.right = None\n",
        "##Inseration of a node in a Binary Search Tree\n",
        "def insertBST(root, key):\n",
        "    ##tree is empty\n",
        "    if root is None:\n",
        "      return Node(key)\n",
        "    else:\n",
        "        if root.data == key:\n",
        "            return root\n",
        "        elif root.data < key:\n",
        "            root.right = insertBST(root.right, key)\n",
        "        else:\n",
        "            root.left = insertBST(root.left, key)\n",
        "        return root\n",
        "## Searching of an element in Binary Search tree\n",
        "def searchBST(root, searchData):\n",
        "  ##Base Case Condition\n",
        "  if root is None or root.data == searchData:\n",
        "    return root\n",
        "  ##right recursive call\n",
        "  if root.data > searchData:\n",
        "    return searchBST(root.left, searchData)\n",
        "  ##left recursive call\n",
        "  return searchBST(root.left,searchData)\n",
        "\n",
        "\n",
        "##Inorder traversal of the tree\n",
        "def inOrder(root):\n",
        "    if root:\n",
        "      inOrder(root.left)\n",
        "      print(str(root.data) + \" \", end = ' ')\n",
        "      inOrder(root.right)\n",
        "\n",
        "#Driver Code\n",
        "root = Node(50)\n",
        "root = insertBST(root, 40)\n",
        "root = insertBST(root, 70)\n",
        "root = insertBST(root, 60)\n",
        "root = insertBST(root, 80)\n",
        "\n",
        "##if after doing inorder traversal, sorted array\n",
        "## It is a Binary serch tree\n",
        "print(\"Inorder Traversal  of the tree:\")\n",
        "inOrder(root)\n",
        "print()\n",
        "\n",
        "searchData = 40\n",
        "if searchBST(root, searchData):\n",
        "  print(\"Search Data is present in BST\")\n",
        "else:\n",
        "  print(\"Search Data is not present in BST\")"
      ],
      "metadata": {
        "colab": {
          "base_uri": "https://localhost:8080/"
        },
        "id": "ca-kQyZyy7Bb",
        "outputId": "524a1b1b-c830-4e7c-b2e9-151c1e371b56"
      },
      "execution_count": null,
      "outputs": [
        {
          "output_type": "stream",
          "name": "stdout",
          "text": [
            "Inorder Traversal  of the tree:\n",
            "40  50  60  70  80  \n",
            "Search Data is present in BST\n"
          ]
        }
      ]
    }
  ]
}