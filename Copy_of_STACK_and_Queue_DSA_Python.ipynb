{
  "nbformat": 4,
  "nbformat_minor": 0,
  "metadata": {
    "colab": {
      "provenance": [],
      "toc_visible": true,
      "authorship_tag": "ABX9TyOReRuYOEvysEkxD4GsVN86",
      "include_colab_link": true
    },
    "kernelspec": {
      "name": "python3",
      "display_name": "Python 3"
    },
    "language_info": {
      "name": "python"
    }
  },
  "cells": [
    {
      "cell_type": "markdown",
      "metadata": {
        "id": "view-in-github",
        "colab_type": "text"
      },
      "source": [
        "<a href=\"https://colab.research.google.com/github/rohanpatil6/DSA_with_RohanPatil/blob/main/Copy_of_STACK_and_Queue_DSA_Python.ipynb\" target=\"_parent\"><img src=\"https://colab.research.google.com/assets/colab-badge.svg\" alt=\"Open In Colab\"/></a>"
      ]
    },
    {
      "cell_type": "code",
      "execution_count": null,
      "metadata": {
        "id": "5v-8EouYBC5G"
      },
      "outputs": [],
      "source": [
        "relianceStock = []\n",
        "relianceStock.insert(0,147)\n",
        "relianceStock.insert(0,150)\n",
        "relianceStock.insert(0,162)"
      ]
    },
    {
      "cell_type": "markdown",
      "source": [
        "Queue and Stack data structure and"
      ],
      "metadata": {
        "id": "DbnTVW8tsLu1"
      }
    },
    {
      "cell_type": "markdown",
      "source": [],
      "metadata": {
        "id": "AADKTUeotctq"
      }
    },
    {
      "cell_type": "code",
      "source": [
        "relianceStock"
      ],
      "metadata": {
        "colab": {
          "base_uri": "https://localhost:8080/"
        },
        "id": "aVXzWQReBRAC",
        "outputId": "7176c379-fdb1-433d-e884-ff776e4b3b3e"
      },
      "execution_count": null,
      "outputs": [
        {
          "output_type": "execute_result",
          "data": {
            "text/plain": [
              "[162, 150, 147]"
            ]
          },
          "metadata": {},
          "execution_count": 5
        }
      ]
    },
    {
      "cell_type": "code",
      "source": [
        "relianceStock.pop()"
      ],
      "metadata": {
        "colab": {
          "base_uri": "https://localhost:8080/"
        },
        "id": "key4nLVtBUUC",
        "outputId": "94f200b9-443a-4592-ecb5-d3649ca2e4ec"
      },
      "execution_count": null,
      "outputs": [
        {
          "output_type": "execute_result",
          "data": {
            "text/plain": [
              "147"
            ]
          },
          "metadata": {},
          "execution_count": 6
        }
      ]
    },
    {
      "cell_type": "markdown",
      "source": [
        "inseration of Queue Data Structure using deque[link text](https://)"
      ],
      "metadata": {
        "id": "bNJiB0j2B3sG"
      }
    },
    {
      "cell_type": "code",
      "source": [
        "from collections import deque\n",
        "queue = deque()"
      ],
      "metadata": {
        "id": "sErMkiXqCF_K"
      },
      "execution_count": null,
      "outputs": []
    },
    {
      "cell_type": "code",
      "source": [
        "dir(queue)"
      ],
      "metadata": {
        "colab": {
          "base_uri": "https://localhost:8080/"
        },
        "id": "rrM2j7PyCcWR",
        "outputId": "30b71b7f-a018-4d17-e85b-246eebdcf470"
      },
      "execution_count": null,
      "outputs": [
        {
          "output_type": "execute_result",
          "data": {
            "text/plain": [
              "['__add__',\n",
              " '__bool__',\n",
              " '__class__',\n",
              " '__class_getitem__',\n",
              " '__contains__',\n",
              " '__copy__',\n",
              " '__delattr__',\n",
              " '__delitem__',\n",
              " '__dir__',\n",
              " '__doc__',\n",
              " '__eq__',\n",
              " '__format__',\n",
              " '__ge__',\n",
              " '__getattribute__',\n",
              " '__getitem__',\n",
              " '__gt__',\n",
              " '__hash__',\n",
              " '__iadd__',\n",
              " '__imul__',\n",
              " '__init__',\n",
              " '__init_subclass__',\n",
              " '__iter__',\n",
              " '__le__',\n",
              " '__len__',\n",
              " '__lt__',\n",
              " '__mul__',\n",
              " '__ne__',\n",
              " '__new__',\n",
              " '__reduce__',\n",
              " '__reduce_ex__',\n",
              " '__repr__',\n",
              " '__reversed__',\n",
              " '__rmul__',\n",
              " '__setattr__',\n",
              " '__setitem__',\n",
              " '__sizeof__',\n",
              " '__str__',\n",
              " '__subclasshook__',\n",
              " 'append',\n",
              " 'appendleft',\n",
              " 'clear',\n",
              " 'copy',\n",
              " 'count',\n",
              " 'extend',\n",
              " 'extendleft',\n",
              " 'index',\n",
              " 'insert',\n",
              " 'maxlen',\n",
              " 'pop',\n",
              " 'popleft',\n",
              " 'remove',\n",
              " 'reverse',\n",
              " 'rotate']"
            ]
          },
          "metadata": {},
          "execution_count": 10
        }
      ]
    },
    {
      "cell_type": "code",
      "source": [
        "queue.appendleft(5)\n",
        "queue.appendleft(10)\n",
        "queue.appendleft(15)"
      ],
      "metadata": {
        "id": "DfkTjTusCnEa"
      },
      "execution_count": null,
      "outputs": []
    },
    {
      "cell_type": "code",
      "source": [
        "queue"
      ],
      "metadata": {
        "colab": {
          "base_uri": "https://localhost:8080/"
        },
        "id": "QFsxHuycDI6b",
        "outputId": "8396af7a-1211-4a30-8cd5-f3a0c4c98179"
      },
      "execution_count": null,
      "outputs": [
        {
          "output_type": "execute_result",
          "data": {
            "text/plain": [
              "deque([15, 10, 5, 5])"
            ]
          },
          "metadata": {},
          "execution_count": 13
        }
      ]
    },
    {
      "cell_type": "markdown",
      "source": [],
      "metadata": {
        "id": "05xmjetNDzqh"
      }
    },
    {
      "cell_type": "code",
      "source": [
        "queue.pop()"
      ],
      "metadata": {
        "colab": {
          "base_uri": "https://localhost:8080/"
        },
        "id": "Pq5IFiFLDP90",
        "outputId": "640f71c6-1382-48cc-ed24-d0bbb531dc04"
      },
      "execution_count": null,
      "outputs": [
        {
          "output_type": "execute_result",
          "data": {
            "text/plain": [
              "5"
            ]
          },
          "metadata": {},
          "execution_count": 15
        }
      ]
    },
    {
      "cell_type": "markdown",
      "source": [
        "Approach 3 : FIFO"
      ],
      "metadata": {
        "id": "p46bNUOxECdZ"
      }
    },
    {
      "cell_type": "code",
      "source": [
        "queue1 = deque()\n",
        "queue1.appendleft(5)\n",
        "queue1.appendleft(10)\n",
        "queue1.appendleft(15)"
      ],
      "metadata": {
        "id": "f7CnLRZ_EJg5"
      },
      "execution_count": null,
      "outputs": []
    },
    {
      "cell_type": "code",
      "source": [
        "queue1"
      ],
      "metadata": {
        "colab": {
          "base_uri": "https://localhost:8080/"
        },
        "id": "MvyoTzYmEiyM",
        "outputId": "1d0d9e80-7834-4acd-8794-7004f4ce7bbc"
      },
      "execution_count": null,
      "outputs": [
        {
          "output_type": "execute_result",
          "data": {
            "text/plain": [
              "deque([15, 10, 5])"
            ]
          },
          "metadata": {},
          "execution_count": 17
        }
      ]
    },
    {
      "cell_type": "code",
      "source": [
        "queue1.popleft()"
      ],
      "metadata": {
        "id": "E26p1U0YEnMf"
      },
      "execution_count": null,
      "outputs": []
    },
    {
      "cell_type": "code",
      "source": [
        "from collections import deque\n",
        "class Queue:\n",
        "  def __init__(self):\n",
        "    self.container = deque()\n",
        "\n",
        "  def enqueue(self, val):\n",
        "    return self.container.appendleft(val)\n",
        "\n",
        "  def dequeue(self):\n",
        "    return self.container.pop()\n",
        "\n",
        "  def is_Empty(self):\n",
        "    return len(self.container) == 0\n",
        "\n",
        "  def size(self):\n",
        "    return len(self.container)\n"
      ],
      "metadata": {
        "id": "ffGjVHYac2-N"
      },
      "execution_count": null,
      "outputs": []
    },
    {
      "cell_type": "markdown",
      "source": [
        "Deque : Module collections Double Ended Queue\n",
        "Deque more preferrable than List??\n",
        "inseration and delection are used in stack and Queue they should appendleft and pop , appen and popleft\n"
      ],
      "metadata": {
        "id": "EuUOekJIteF9"
      }
    },
    {
      "cell_type": "markdown",
      "source": [
        "deque is used append and pop they time complexity is O(1) it's a constant time complexity of task"
      ],
      "metadata": {
        "id": "DlYpHyqAuGUW"
      }
    },
    {
      "cell_type": "markdown",
      "source": [
        "Restricted Deque Input\n",
        "1)Input Restricted Deque\n",
        "I/p = One end\n",
        "Deletions = both the ends\n",
        "2)Output Restricted Deque\n",
        "o/p = one end\n",
        "I/p = both ends"
      ],
      "metadata": {
        "id": "Ljfsv6HxvN5L"
      }
    },
    {
      "cell_type": "markdown",
      "source": [
        "print binary number from 1 to 10 using the Queue\n",
        "1\n",
        "10\n",
        "11\n",
        "100\n",
        "101\n",
        "110\n",
        "111\n",
        "1000"
      ],
      "metadata": {
        "id": "XU03BUGrxc4h"
      }
    },
    {
      "cell_type": "code",
      "source": [
        "from collections import deque\n",
        "\n",
        "class Queue:\n",
        "  def __init__(self):\n",
        "    self.container = deque()\n",
        "\n",
        "  def enqueue(self, val):\n",
        "    return self.container.appendleft(val)\n",
        "\n",
        "  def dequeue(self):\n",
        "    return self.container.pop()\n",
        "\n",
        "  def is_Empty(self):\n",
        "    return len(self.container) == 0\n",
        "\n",
        "  def size(self):\n",
        "    return len(self.container)\n",
        "\n",
        "  def front(self):\n",
        "    return self.container[-1]\n",
        "\n",
        "def produceBinaryNum(n):\n",
        "  q = Queue()\n",
        "  q.enqueue(\"1\")\n",
        "\n",
        "  for i in range(n):\n",
        "    front = q.front()\n",
        "    print(front, end=\" \")\n",
        "    q.enqueue(front + \"0\")\n",
        "    q.enqueue(front + \"1\")\n",
        "\n",
        "    q.dequeue()\n",
        "\n",
        "# Driver code\n",
        "n = 10  # You can change n to the desired number of binary numbers\n",
        "produceBinaryNum(n)\n"
      ],
      "metadata": {
        "colab": {
          "base_uri": "https://localhost:8080/"
        },
        "id": "wQD3JNPXxl0m",
        "outputId": "223637fa-a82e-4f72-a586-7dededac5ca9"
      },
      "execution_count": null,
      "outputs": [
        {
          "output_type": "stream",
          "name": "stdout",
          "text": [
            "1 10 11 100 101 110 111 1000 1001 1010 "
          ]
        }
      ]
    },
    {
      "cell_type": "markdown",
      "source": [
        "Stack = LIPO\n",
        "\n",
        "They can perform a push,pop,peak,is_empty"
      ],
      "metadata": {
        "id": "HBaNhXti1v3V"
      }
    },
    {
      "cell_type": "code",
      "source": [
        "from collections import deque\n",
        "\n",
        "class Stack:\n",
        "    def __init__(self):\n",
        "        self.container = deque()\n",
        "\n",
        "    def push(self, val):\n",
        "        self.container.append(val)\n",
        "\n",
        "    def pop(self):\n",
        "        if not self.is_empty():\n",
        "            return self.container.pop()\n",
        "        else:\n",
        "            return \"Stack is empty.\"\n",
        "\n",
        "    def peek(self):\n",
        "        if not self.is_empty():\n",
        "            return self.container[-1]\n",
        "        else:\n",
        "            return \"Stack is empty.\"\n",
        "\n",
        "    def is_empty(self):\n",
        "        return len(self.container) == 0\n",
        "\n",
        "    def size(self):\n",
        "        return len(self.container)\n",
        "\n",
        "# Create an object of the Stack class\n",
        "s = Stack()\n",
        "\n",
        "# Push elements onto the stack\n",
        "s.push(15)\n",
        "s.push(10)\n",
        "s.push(15)\n",
        "s.push(20)\n",
        "\n",
        "# Check the topmost element in the stack\n",
        "print(s.peek())  # Output should be 20\n",
        "\n",
        "# Pop an element from the stack\n",
        "print(s.pop())   # Output should be 20\n",
        "print(s.size())\n",
        "print(s.is_empty())"
      ],
      "metadata": {
        "colab": {
          "base_uri": "https://localhost:8080/"
        },
        "id": "JRkTy4gL2EtS",
        "outputId": "515b6c2e-1c19-4799-df5e-e4a8889cc979"
      },
      "execution_count": null,
      "outputs": [
        {
          "output_type": "stream",
          "name": "stdout",
          "text": [
            "20\n",
            "20\n",
            "3\n",
            "False\n"
          ]
        }
      ]
    }
  ]
}